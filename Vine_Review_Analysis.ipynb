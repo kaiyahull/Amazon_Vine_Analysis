{
 "cells": [
  {
   "cell_type": "code",
   "execution_count": 2,
   "id": "0085bb93",
   "metadata": {},
   "outputs": [],
   "source": [
    "# Import dependencies\n",
    "import pandas as pd\n"
   ]
  },
  {
   "cell_type": "code",
   "execution_count": 3,
   "id": "48739246",
   "metadata": {},
   "outputs": [
    {
     "data": {
      "text/html": [
       "<div>\n",
       "<style scoped>\n",
       "    .dataframe tbody tr th:only-of-type {\n",
       "        vertical-align: middle;\n",
       "    }\n",
       "\n",
       "    .dataframe tbody tr th {\n",
       "        vertical-align: top;\n",
       "    }\n",
       "\n",
       "    .dataframe thead th {\n",
       "        text-align: right;\n",
       "    }\n",
       "</style>\n",
       "<table border=\"1\" class=\"dataframe\">\n",
       "  <thead>\n",
       "    <tr style=\"text-align: right;\">\n",
       "      <th></th>\n",
       "      <th>review_id</th>\n",
       "      <th>star_rating</th>\n",
       "      <th>helpful_votes</th>\n",
       "      <th>total_votes</th>\n",
       "      <th>vine</th>\n",
       "      <th>verified_purchase</th>\n",
       "    </tr>\n",
       "  </thead>\n",
       "  <tbody>\n",
       "    <tr>\n",
       "      <th>0</th>\n",
       "      <td>R3P2HIOQCIN5ZU</td>\n",
       "      <td>1</td>\n",
       "      <td>0</td>\n",
       "      <td>0</td>\n",
       "      <td>N</td>\n",
       "      <td>Y</td>\n",
       "    </tr>\n",
       "    <tr>\n",
       "      <th>1</th>\n",
       "      <td>R12VVR0WH5Q24V</td>\n",
       "      <td>5</td>\n",
       "      <td>0</td>\n",
       "      <td>0</td>\n",
       "      <td>N</td>\n",
       "      <td>Y</td>\n",
       "    </tr>\n",
       "    <tr>\n",
       "      <th>2</th>\n",
       "      <td>RNCCKB6TV5EEF</td>\n",
       "      <td>4</td>\n",
       "      <td>0</td>\n",
       "      <td>0</td>\n",
       "      <td>N</td>\n",
       "      <td>Y</td>\n",
       "    </tr>\n",
       "    <tr>\n",
       "      <th>3</th>\n",
       "      <td>R2NZXYIVCGB13W</td>\n",
       "      <td>5</td>\n",
       "      <td>0</td>\n",
       "      <td>6</td>\n",
       "      <td>N</td>\n",
       "      <td>Y</td>\n",
       "    </tr>\n",
       "    <tr>\n",
       "      <th>4</th>\n",
       "      <td>R2EQ1TG9IT3OEQ</td>\n",
       "      <td>3</td>\n",
       "      <td>0</td>\n",
       "      <td>0</td>\n",
       "      <td>N</td>\n",
       "      <td>Y</td>\n",
       "    </tr>\n",
       "  </tbody>\n",
       "</table>\n",
       "</div>"
      ],
      "text/plain": [
       "        review_id  star_rating  helpful_votes  total_votes vine  \\\n",
       "0  R3P2HIOQCIN5ZU            1              0            0    N   \n",
       "1  R12VVR0WH5Q24V            5              0            0    N   \n",
       "2   RNCCKB6TV5EEF            4              0            0    N   \n",
       "3  R2NZXYIVCGB13W            5              0            6    N   \n",
       "4  R2EQ1TG9IT3OEQ            3              0            0    N   \n",
       "\n",
       "  verified_purchase  \n",
       "0                 Y  \n",
       "1                 Y  \n",
       "2                 Y  \n",
       "3                 Y  \n",
       "4                 Y  "
      ]
     },
     "execution_count": 3,
     "metadata": {},
     "output_type": "execute_result"
    }
   ],
   "source": [
    "# Read in csv file\n",
    "file_to_load = \"vine_table.csv\"\n",
    "vine_df = pd.read_csv(file_to_load)\n",
    "vine_df.head()"
   ]
  },
  {
   "cell_type": "code",
   "execution_count": 4,
   "id": "883b923e",
   "metadata": {},
   "outputs": [
    {
     "data": {
      "text/html": [
       "<div>\n",
       "<style scoped>\n",
       "    .dataframe tbody tr th:only-of-type {\n",
       "        vertical-align: middle;\n",
       "    }\n",
       "\n",
       "    .dataframe tbody tr th {\n",
       "        vertical-align: top;\n",
       "    }\n",
       "\n",
       "    .dataframe thead th {\n",
       "        text-align: right;\n",
       "    }\n",
       "</style>\n",
       "<table border=\"1\" class=\"dataframe\">\n",
       "  <thead>\n",
       "    <tr style=\"text-align: right;\">\n",
       "      <th></th>\n",
       "      <th>review_id</th>\n",
       "      <th>star_rating</th>\n",
       "      <th>helpful_votes</th>\n",
       "      <th>total_votes</th>\n",
       "      <th>vine</th>\n",
       "      <th>verified_purchase</th>\n",
       "    </tr>\n",
       "  </thead>\n",
       "  <tbody>\n",
       "    <tr>\n",
       "      <th>218</th>\n",
       "      <td>R37F42INKX7L9K</td>\n",
       "      <td>5</td>\n",
       "      <td>45</td>\n",
       "      <td>49</td>\n",
       "      <td>N</td>\n",
       "      <td>Y</td>\n",
       "    </tr>\n",
       "    <tr>\n",
       "      <th>557</th>\n",
       "      <td>R2EHKYNEP8WVSR</td>\n",
       "      <td>5</td>\n",
       "      <td>25</td>\n",
       "      <td>25</td>\n",
       "      <td>N</td>\n",
       "      <td>Y</td>\n",
       "    </tr>\n",
       "    <tr>\n",
       "      <th>560</th>\n",
       "      <td>RXOS7BHID0UHL</td>\n",
       "      <td>5</td>\n",
       "      <td>16</td>\n",
       "      <td>27</td>\n",
       "      <td>N</td>\n",
       "      <td>N</td>\n",
       "    </tr>\n",
       "    <tr>\n",
       "      <th>909</th>\n",
       "      <td>R33HHGFPB403GM</td>\n",
       "      <td>5</td>\n",
       "      <td>19</td>\n",
       "      <td>21</td>\n",
       "      <td>N</td>\n",
       "      <td>Y</td>\n",
       "    </tr>\n",
       "    <tr>\n",
       "      <th>1232</th>\n",
       "      <td>RY9O9XNLP464N</td>\n",
       "      <td>2</td>\n",
       "      <td>19</td>\n",
       "      <td>22</td>\n",
       "      <td>N</td>\n",
       "      <td>Y</td>\n",
       "    </tr>\n",
       "  </tbody>\n",
       "</table>\n",
       "</div>"
      ],
      "text/plain": [
       "           review_id  star_rating  helpful_votes  total_votes vine  \\\n",
       "218   R37F42INKX7L9K            5             45           49    N   \n",
       "557   R2EHKYNEP8WVSR            5             25           25    N   \n",
       "560    RXOS7BHID0UHL            5             16           27    N   \n",
       "909   R33HHGFPB403GM            5             19           21    N   \n",
       "1232   RY9O9XNLP464N            2             19           22    N   \n",
       "\n",
       "     verified_purchase  \n",
       "218                  Y  \n",
       "557                  Y  \n",
       "560                  N  \n",
       "909                  Y  \n",
       "1232                 Y  "
      ]
     },
     "execution_count": 4,
     "metadata": {},
     "output_type": "execute_result"
    }
   ],
   "source": [
    "# Filter DF by those with total votes greater or equal to 20 \n",
    "total_votes_df = vine_df.loc[vine_df[\"total_votes\"] >= 20]\n",
    "total_votes_df.head()"
   ]
  },
  {
   "cell_type": "code",
   "execution_count": 20,
   "id": "1d7448d5",
   "metadata": {},
   "outputs": [
    {
     "data": {
      "text/html": [
       "<div>\n",
       "<style scoped>\n",
       "    .dataframe tbody tr th:only-of-type {\n",
       "        vertical-align: middle;\n",
       "    }\n",
       "\n",
       "    .dataframe tbody tr th {\n",
       "        vertical-align: top;\n",
       "    }\n",
       "\n",
       "    .dataframe thead th {\n",
       "        text-align: right;\n",
       "    }\n",
       "</style>\n",
       "<table border=\"1\" class=\"dataframe\">\n",
       "  <thead>\n",
       "    <tr style=\"text-align: right;\">\n",
       "      <th></th>\n",
       "      <th>review_id</th>\n",
       "      <th>star_rating</th>\n",
       "      <th>helpful_votes</th>\n",
       "      <th>total_votes</th>\n",
       "      <th>vine</th>\n",
       "      <th>verified_purchase</th>\n",
       "    </tr>\n",
       "  </thead>\n",
       "  <tbody>\n",
       "    <tr>\n",
       "      <th>218</th>\n",
       "      <td>R37F42INKX7L9K</td>\n",
       "      <td>5</td>\n",
       "      <td>45</td>\n",
       "      <td>49</td>\n",
       "      <td>N</td>\n",
       "      <td>Y</td>\n",
       "    </tr>\n",
       "    <tr>\n",
       "      <th>557</th>\n",
       "      <td>R2EHKYNEP8WVSR</td>\n",
       "      <td>5</td>\n",
       "      <td>25</td>\n",
       "      <td>25</td>\n",
       "      <td>N</td>\n",
       "      <td>Y</td>\n",
       "    </tr>\n",
       "    <tr>\n",
       "      <th>560</th>\n",
       "      <td>RXOS7BHID0UHL</td>\n",
       "      <td>5</td>\n",
       "      <td>16</td>\n",
       "      <td>27</td>\n",
       "      <td>N</td>\n",
       "      <td>N</td>\n",
       "    </tr>\n",
       "    <tr>\n",
       "      <th>909</th>\n",
       "      <td>R33HHGFPB403GM</td>\n",
       "      <td>5</td>\n",
       "      <td>19</td>\n",
       "      <td>21</td>\n",
       "      <td>N</td>\n",
       "      <td>Y</td>\n",
       "    </tr>\n",
       "    <tr>\n",
       "      <th>1232</th>\n",
       "      <td>RY9O9XNLP464N</td>\n",
       "      <td>2</td>\n",
       "      <td>19</td>\n",
       "      <td>22</td>\n",
       "      <td>N</td>\n",
       "      <td>Y</td>\n",
       "    </tr>\n",
       "  </tbody>\n",
       "</table>\n",
       "</div>"
      ],
      "text/plain": [
       "           review_id  star_rating  helpful_votes  total_votes vine  \\\n",
       "218   R37F42INKX7L9K            5             45           49    N   \n",
       "557   R2EHKYNEP8WVSR            5             25           25    N   \n",
       "560    RXOS7BHID0UHL            5             16           27    N   \n",
       "909   R33HHGFPB403GM            5             19           21    N   \n",
       "1232   RY9O9XNLP464N            2             19           22    N   \n",
       "\n",
       "     verified_purchase  \n",
       "218                  Y  \n",
       "557                  Y  \n",
       "560                  N  \n",
       "909                  Y  \n",
       "1232                 Y  "
      ]
     },
     "execution_count": 20,
     "metadata": {},
     "output_type": "execute_result"
    }
   ],
   "source": [
    "# Filter DF by those whose percentage of helpful votes / total votes is greater or equal to 50%\n",
    "helpful_votes_df = total_votes_df.loc[total_votes_df[\"helpful_votes\"] / total_votes_df[\"total_votes\"] >= .5]\n",
    "helpful_votes_df.head()"
   ]
  },
  {
   "cell_type": "code",
   "execution_count": 21,
   "id": "46e34366",
   "metadata": {},
   "outputs": [
    {
     "data": {
      "text/html": [
       "<div>\n",
       "<style scoped>\n",
       "    .dataframe tbody tr th:only-of-type {\n",
       "        vertical-align: middle;\n",
       "    }\n",
       "\n",
       "    .dataframe tbody tr th {\n",
       "        vertical-align: top;\n",
       "    }\n",
       "\n",
       "    .dataframe thead th {\n",
       "        text-align: right;\n",
       "    }\n",
       "</style>\n",
       "<table border=\"1\" class=\"dataframe\">\n",
       "  <thead>\n",
       "    <tr style=\"text-align: right;\">\n",
       "      <th></th>\n",
       "      <th>review_id</th>\n",
       "      <th>star_rating</th>\n",
       "      <th>helpful_votes</th>\n",
       "      <th>total_votes</th>\n",
       "      <th>vine</th>\n",
       "      <th>verified_purchase</th>\n",
       "    </tr>\n",
       "  </thead>\n",
       "  <tbody>\n",
       "    <tr>\n",
       "      <th>270349</th>\n",
       "      <td>R2N45ZKRRZS856</td>\n",
       "      <td>5</td>\n",
       "      <td>21</td>\n",
       "      <td>22</td>\n",
       "      <td>Y</td>\n",
       "      <td>N</td>\n",
       "    </tr>\n",
       "    <tr>\n",
       "      <th>306676</th>\n",
       "      <td>R5OMLMK13A8NS</td>\n",
       "      <td>5</td>\n",
       "      <td>34</td>\n",
       "      <td>38</td>\n",
       "      <td>Y</td>\n",
       "      <td>N</td>\n",
       "    </tr>\n",
       "    <tr>\n",
       "      <th>1050160</th>\n",
       "      <td>R2MPEQ4SPTEQNS</td>\n",
       "      <td>4</td>\n",
       "      <td>180</td>\n",
       "      <td>184</td>\n",
       "      <td>Y</td>\n",
       "      <td>N</td>\n",
       "    </tr>\n",
       "    <tr>\n",
       "      <th>1224726</th>\n",
       "      <td>RIR0D3KJ0CQ31</td>\n",
       "      <td>4</td>\n",
       "      <td>21</td>\n",
       "      <td>21</td>\n",
       "      <td>Y</td>\n",
       "      <td>N</td>\n",
       "    </tr>\n",
       "    <tr>\n",
       "      <th>1231743</th>\n",
       "      <td>R1SPWJDHUWWC5E</td>\n",
       "      <td>5</td>\n",
       "      <td>88</td>\n",
       "      <td>98</td>\n",
       "      <td>Y</td>\n",
       "      <td>N</td>\n",
       "    </tr>\n",
       "  </tbody>\n",
       "</table>\n",
       "</div>"
      ],
      "text/plain": [
       "              review_id  star_rating  helpful_votes  total_votes vine  \\\n",
       "270349   R2N45ZKRRZS856            5             21           22    Y   \n",
       "306676    R5OMLMK13A8NS            5             34           38    Y   \n",
       "1050160  R2MPEQ4SPTEQNS            4            180          184    Y   \n",
       "1224726   RIR0D3KJ0CQ31            4             21           21    Y   \n",
       "1231743  R1SPWJDHUWWC5E            5             88           98    Y   \n",
       "\n",
       "        verified_purchase  \n",
       "270349                  N  \n",
       "306676                  N  \n",
       "1050160                 N  \n",
       "1224726                 N  \n",
       "1231743                 N  "
      ]
     },
     "execution_count": 21,
     "metadata": {},
     "output_type": "execute_result"
    }
   ],
   "source": [
    "# Filter DF for reviews written as part of the Vine Program \n",
    "\n",
    "vine_yes_df = helpful_votes_df.loc[percent_votes_df[\"vine\"] == 'Y']\n",
    "vine_yes_df.head()"
   ]
  },
  {
   "cell_type": "code",
   "execution_count": 22,
   "id": "0ec618fd",
   "metadata": {},
   "outputs": [
    {
     "data": {
      "text/html": [
       "<div>\n",
       "<style scoped>\n",
       "    .dataframe tbody tr th:only-of-type {\n",
       "        vertical-align: middle;\n",
       "    }\n",
       "\n",
       "    .dataframe tbody tr th {\n",
       "        vertical-align: top;\n",
       "    }\n",
       "\n",
       "    .dataframe thead th {\n",
       "        text-align: right;\n",
       "    }\n",
       "</style>\n",
       "<table border=\"1\" class=\"dataframe\">\n",
       "  <thead>\n",
       "    <tr style=\"text-align: right;\">\n",
       "      <th></th>\n",
       "      <th>review_id</th>\n",
       "      <th>star_rating</th>\n",
       "      <th>helpful_votes</th>\n",
       "      <th>total_votes</th>\n",
       "      <th>vine</th>\n",
       "      <th>verified_purchase</th>\n",
       "    </tr>\n",
       "  </thead>\n",
       "  <tbody>\n",
       "    <tr>\n",
       "      <th>218</th>\n",
       "      <td>R37F42INKX7L9K</td>\n",
       "      <td>5</td>\n",
       "      <td>45</td>\n",
       "      <td>49</td>\n",
       "      <td>N</td>\n",
       "      <td>Y</td>\n",
       "    </tr>\n",
       "    <tr>\n",
       "      <th>557</th>\n",
       "      <td>R2EHKYNEP8WVSR</td>\n",
       "      <td>5</td>\n",
       "      <td>25</td>\n",
       "      <td>25</td>\n",
       "      <td>N</td>\n",
       "      <td>Y</td>\n",
       "    </tr>\n",
       "    <tr>\n",
       "      <th>560</th>\n",
       "      <td>RXOS7BHID0UHL</td>\n",
       "      <td>5</td>\n",
       "      <td>16</td>\n",
       "      <td>27</td>\n",
       "      <td>N</td>\n",
       "      <td>N</td>\n",
       "    </tr>\n",
       "    <tr>\n",
       "      <th>909</th>\n",
       "      <td>R33HHGFPB403GM</td>\n",
       "      <td>5</td>\n",
       "      <td>19</td>\n",
       "      <td>21</td>\n",
       "      <td>N</td>\n",
       "      <td>Y</td>\n",
       "    </tr>\n",
       "    <tr>\n",
       "      <th>1232</th>\n",
       "      <td>RY9O9XNLP464N</td>\n",
       "      <td>2</td>\n",
       "      <td>19</td>\n",
       "      <td>22</td>\n",
       "      <td>N</td>\n",
       "      <td>Y</td>\n",
       "    </tr>\n",
       "  </tbody>\n",
       "</table>\n",
       "</div>"
      ],
      "text/plain": [
       "           review_id  star_rating  helpful_votes  total_votes vine  \\\n",
       "218   R37F42INKX7L9K            5             45           49    N   \n",
       "557   R2EHKYNEP8WVSR            5             25           25    N   \n",
       "560    RXOS7BHID0UHL            5             16           27    N   \n",
       "909   R33HHGFPB403GM            5             19           21    N   \n",
       "1232   RY9O9XNLP464N            2             19           22    N   \n",
       "\n",
       "     verified_purchase  \n",
       "218                  Y  \n",
       "557                  Y  \n",
       "560                  N  \n",
       "909                  Y  \n",
       "1232                 Y  "
      ]
     },
     "execution_count": 22,
     "metadata": {},
     "output_type": "execute_result"
    }
   ],
   "source": [
    "# Filter DF for reviews not written as part of the Vine Program \n",
    "vine_no_df = helpful_votes_df.loc[helpful_votes_df[\"vine\"] == 'N']\n",
    "vine_no_df.head()"
   ]
  },
  {
   "cell_type": "code",
   "execution_count": 23,
   "id": "2ac9a440",
   "metadata": {},
   "outputs": [
    {
     "data": {
      "text/plain": [
       "22"
      ]
     },
     "execution_count": 23,
     "metadata": {},
     "output_type": "execute_result"
    }
   ],
   "source": [
    "# Total number of paid reviews (vine == Y)\n",
    "total_reviews_paid = len(vine_yes_df)\n",
    "total_reviews_paid"
   ]
  },
  {
   "cell_type": "code",
   "execution_count": 24,
   "id": "44411a49",
   "metadata": {},
   "outputs": [
    {
     "data": {
      "text/plain": [
       "13"
      ]
     },
     "execution_count": 24,
     "metadata": {},
     "output_type": "execute_result"
    }
   ],
   "source": [
    "# Number of paid 5-star reviews\n",
    "five_star_paid = len(vine_yes_df.loc[vine_yes_df[\"star_rating\"] == 5])\n",
    "five_star_paid"
   ]
  },
  {
   "cell_type": "code",
   "execution_count": 25,
   "id": "9739df90",
   "metadata": {},
   "outputs": [
    {
     "data": {
      "text/plain": [
       "59.09090909090909"
      ]
     },
     "execution_count": 25,
     "metadata": {},
     "output_type": "execute_result"
    }
   ],
   "source": [
    "# Percentage of paid 5-star reviews\n",
    "percent_five_star_paid = five_star_paid / total_reviews_paid * 100\n",
    "percent_five_star_paid"
   ]
  },
  {
   "cell_type": "code",
   "execution_count": 26,
   "id": "0c7aac43",
   "metadata": {},
   "outputs": [
    {
     "data": {
      "text/plain": [
       "26987"
      ]
     },
     "execution_count": 26,
     "metadata": {},
     "output_type": "execute_result"
    }
   ],
   "source": [
    "# Total number of unpaid reviews (vine == N)\n",
    "total_reviews_unpaid = len(vine_no_df)\n",
    "total_reviews_unpaid"
   ]
  },
  {
   "cell_type": "code",
   "execution_count": 27,
   "id": "208eba54",
   "metadata": {},
   "outputs": [
    {
     "data": {
      "text/plain": [
       "14475"
      ]
     },
     "execution_count": 27,
     "metadata": {},
     "output_type": "execute_result"
    }
   ],
   "source": [
    "# Total number of unpaid 5-star reviews\n",
    "five_star_unpaid = len(vine_no_df.loc[vine_no_df[\"star_rating\"] == 5])\n",
    "five_star_unpaid"
   ]
  },
  {
   "cell_type": "code",
   "execution_count": 28,
   "id": "46968866",
   "metadata": {},
   "outputs": [
    {
     "data": {
      "text/plain": [
       "53.63693630266425"
      ]
     },
     "execution_count": 28,
     "metadata": {},
     "output_type": "execute_result"
    }
   ],
   "source": [
    "# Percentage of unpaid 5-star reviews\n",
    "percent_five_star_unpaid = five_star_unpaid / total_reviews_unpaid * 100\n",
    "percent_five_star_unpaid"
   ]
  },
  {
   "cell_type": "markdown",
   "id": "91ed8caa",
   "metadata": {},
   "source": [
    "## Additional Queries for Summary Analysis"
   ]
  },
  {
   "cell_type": "code",
   "execution_count": 39,
   "id": "0302b9a8",
   "metadata": {},
   "outputs": [
    {
     "data": {
      "text/plain": [
       "4.36"
      ]
     },
     "execution_count": 39,
     "metadata": {},
     "output_type": "execute_result"
    }
   ],
   "source": [
    "# Average star rating for Vine reviews\n",
    "mean_paid = round(vine_yes_df[\"star_rating\"].mean(),2)\n",
    "mean_paid"
   ]
  },
  {
   "cell_type": "code",
   "execution_count": 37,
   "id": "a6e8cacd",
   "metadata": {},
   "outputs": [
    {
     "data": {
      "text/plain": [
       "3.86"
      ]
     },
     "execution_count": 37,
     "metadata": {},
     "output_type": "execute_result"
    }
   ],
   "source": [
    "# Average star rating for non-Vine reviews\n",
    "mean_unpaid = round(vine_no_df[\"star_rating\"].mean(),2)\n",
    "mean_unpaid"
   ]
  },
  {
   "cell_type": "code",
   "execution_count": 40,
   "id": "f855dcd9",
   "metadata": {},
   "outputs": [
    {
     "data": {
      "text/plain": [
       "3.86"
      ]
     },
     "execution_count": 40,
     "metadata": {},
     "output_type": "execute_result"
    }
   ],
   "source": [
    "# Avearge star rating for all reviews\n",
    "mean_all_reviews = round(helpful_votes_df[\"star_rating\"].mean(),2)\n",
    "mean_all_reviews"
   ]
  },
  {
   "cell_type": "code",
   "execution_count": null,
   "id": "89b5cb77",
   "metadata": {},
   "outputs": [],
   "source": []
  }
 ],
 "metadata": {
  "kernelspec": {
   "display_name": "PythonData",
   "language": "python",
   "name": "pythondata"
  },
  "language_info": {
   "codemirror_mode": {
    "name": "ipython",
    "version": 3
   },
   "file_extension": ".py",
   "mimetype": "text/x-python",
   "name": "python",
   "nbconvert_exporter": "python",
   "pygments_lexer": "ipython3",
   "version": "3.9.7"
  }
 },
 "nbformat": 4,
 "nbformat_minor": 5
}
